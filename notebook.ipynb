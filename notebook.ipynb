{
  "cells": [
    {
      "cell_type": "markdown",
      "metadata": {
        "ExecuteTime": {
          "end_time": "2020-03-31T13:49:08.174519Z",
          "start_time": "2020-03-31T13:49:08.165989Z"
        },
        "id": "gpbvNOH0zvIi"
      },
      "source": [
        "# **Competencia 1 - CC6205 Natural Language Processing 📚**\n",
        "\n",
        "**Integrantes:**\n",
        "\n",
        "**Usuario del equipo en CodaLab:**\n",
        "\n",
        "**Fecha límite de entrega 📆:** Jueves 14 de Abril.\n",
        "\n",
        "**Tiempo estimado de dedicación:**"
      ]
    },
    {
      "cell_type": "markdown",
      "metadata": {
        "id": "mxlNrNf_p0ZY"
      },
      "source": [
        "## **Objetivo**"
      ]
    },
    {
      "cell_type": "markdown",
      "metadata": {
        "id": "mrtvsKf2p3A4"
      },
      "source": [
        "En esta tarea grupal participarán de una competencia estilo [Kaggle](https://www.kaggle.com/) pero utilizando la página [CodaLab](https://codalab.org/). El objetivo es trabajar en la clasificación de tweets  según su intensidad de emoción, esto corresponde a la task de clasificación de texto. \n",
        "\n",
        "Tendrán a su disposición 4 datasets de tweets con distintas emociones: `anger`, `fear`, `sadness` y `joy`. Deberán crear un clasificador para cada uno de estos datasets que indique la intensidad de dicha emoción en sus tweets (`low`, `medium`, `high`). "
      ]
    },
    {
      "cell_type": "markdown",
      "metadata": {
        "id": "N6lhhfl2zvIk"
      },
      "source": [
        "## **Instrucciones**\n",
        "\n"
      ]
    },
    {
      "cell_type": "markdown",
      "metadata": {
        "ExecuteTime": {
          "end_time": "2020-04-07T14:34:38.796217Z",
          "start_time": "2020-04-07T14:34:38.782255Z"
        },
        "id": "7wTyult1zvIl"
      },
      "source": [
        "- La competencia consiste en resolver 4 problemas de clasificación **distintos**, cada uno con tres clases posibles. Por cada problema deberán crear un clasificador distinto. La evaluación de la competencia se realiza en base a 3 métricas: `AUC`, `Kappa` y `Accuracy`. Los mejores puntajes en cada una de estas métricas serán quienes ganen la competencia.\n",
        "\n",
        "- Para comenzar se les entregará en este notebook la estructura del informe a entregar y el código de un baseline con el cuál pueden comparar los resultados de sus experimentos. Este baseline consiste en la creación de features y una clasificación simple siguiendo el paradigma de Machine Learning empírico. Los puntajes obtenidos por el baseline los pueden visualizar en el link de CodaLab buscando al usuario **cc6205**. Esperamos que los superen fácilmente 😉\n",
        "\n",
        "- Para participar, deben registrarse en CodaLab y luego ingresar a la competencia usando el siguiente [link](https://competitions.codalab.org/competitions/30330?secret_key=b2ed0be7-bf23-42a1-9400-f85fa1b7bae7). \n",
        "\n",
        "- Está permitido hacer grupos de máximo 4 alumnos. Cada grupo debe tener un nombre de equipo, para ello en CodaLab pueden dirigirse a settings y luego cambiar el Team Name. Sólo una persona debe administrar la cuenta del grupo y se verificará que no se hayan creado múltiples cuentas por grupo.\n",
        "\n",
        "- En total pueden hacer un **máximo de 4 submissions**, hagan muchos experimentos probando en el conjunto de test antes de realizar el envío.\n",
        "\n",
        "- Es importante que hagan varios experimentos incorporando técnicas como [cross-validation](https://es.wikipedia.org/wiki/Validaci%C3%B3n_cruzada#:~:text=La%20validaci%C3%B3n%20cruzada%20o%20cross,datos%20de%20entrenamiento%20y%20prueba.) o [random sampling](https://towardsdatascience.com/the-5-sampling-algorithms-every-data-scientist-need-to-know-43c7bc11d17c) antes de enviar sus predicciones a CodaLab, ya que les puede dar un mejor indicio del nivel de generalización de sus modelos. \n",
        "\n",
        "- Asegúrense que la distribución de las clases sea balanceada en las particiones de training y testing debido a que existe un desbalanceo. \n",
        "\n",
        "- Verificar que el formato de la submission coincida con el de la competencia. De lo contrario, se les será evaluado incorrectamente ya que el Script de evaluación espera como input dicho formato. En el código de las métricas pueden verificar cómo son los inputs.\n",
        "\n",
        "- No se limiten a los contenidos vistos ni a scikit ni a este baseline. No tienen restricciones entre utilizar Deep Learning o Machine Learning empírico. Si reutilizan gran cantidad de código de alguna página por favor mostrar la referencia en su código. ¡Usen todo su conocimiento e ingenio en mejorar sus sistemas para poder ganar la competencia! \n",
        "\n",
        "- **Es requisito entregar el reporte con el código y haber participado en la competencia para ser evaluado. Un código sin reporte o un reporte sin código serán evaluados con la nota mínima.**\n",
        "\n",
        "- Todas las dudas escríbanlas en el canal de Discord de competencias. Los emails que lleguen al equipo docente serán remitidos a ese medio."
      ]
    },
    {
      "cell_type": "markdown",
      "metadata": {
        "ExecuteTime": {
          "end_time": "2020-04-07T15:25:19.677190Z",
          "start_time": "2020-04-07T15:25:19.671206Z"
        },
        "id": "jiDISxa-zvIn"
      },
      "source": [
        "**Importante**: Recuerden poner su nombre y el de su usuario o de equipo (en caso de que aplique) en el reporte. NO serán evaluados Notebooks sin nombre."
      ]
    },
    {
      "cell_type": "markdown",
      "metadata": {
        "id": "igf7TBfSzvIo"
      },
      "source": [
        "----------------------------------------"
      ]
    },
    {
      "cell_type": "markdown",
      "metadata": {
        "id": "a6moqxkEwCe-"
      },
      "source": [
        "## **Reporte a entregar**"
      ]
    },
    {
      "cell_type": "markdown",
      "metadata": {
        "id": "Vo7vfXV4wD8s"
      },
      "source": [
        "Uno de los puntos claves en la evaluación de esta competencia es elaborar un informe claro y preciso, argumentando las decisiones tomadas al momento de crear sus modelos para que el cuerpo docente pueda entenderlos. La estructura que debe contener es la siguiente:\n",
        "\n",
        "1.\t**Introducción**: Presentar brevemente el problema a resolver, incluyendo la formalización de la task (cómo son los inputs y outputs del problema) y los desafíos que ven al analizar el corpus entregado. (**0.5 puntos**)\n",
        "2.\t**Representaciones**: Describir los atributos y representaciones usadas como entrada de los clasificadores, **recordar** que para entrenar modelos el input debe tener su representación numérica. Si bien, con Bag of Words (**baseline**) ya se comienzan a percibir buenos resultados, pueden mejorar su evaluación agregando más atributos y representaciones diseñadas a mano, sean lo más creativos posible. Más abajo encontrarán una lista de estos posibles atributos que les podrá ser de utilidad. (**1 punto**)\n",
        "3.\t**Algoritmos**: Describir **brevemente** los algoritmos de clasificación usados, tanto si fueron algoritmos ya vistos en clases o bien arquitecturas de Deep Learning. (**0.5 puntos**)\n",
        "4.\t**Métricas de evaluación**: Describir brevemente las métricas utilizadas en la evaluación, indicando qué miden y su interpretación. (**0.5 puntos**)\n",
        "\n",
        "5.  **Diseño experimental**: Esta es una de las secciones más importantes del reporte. Deben describir minuciosamente los experimentos que realizarán en la siguiente sección. Describir las variables de control que manejarán, algunos ejemplos pueden ser: Los parámetros de los clasificadores, parámetros en las funciones con que procesan los textos y los transforman, parámetros para el cross-validation, particiones de datos utilizadas, etc. En caso que utilicen redes neuronales, ser claros con el conjunto de hiperparámetros que probarán, la decisión en las funciones de optimización, función de pérdida,  regulación, etc. Básicamente explicar qué es lo que veremos en la siguiente sección.\n",
        "(**1 punto**)\n",
        "\n",
        "6.\t**Experimentos**: Incluyan todo el código de sus experimentos aquí. ¡Es vital haber realizado varios experimentos para sacar una buena nota! (**1.5 puntos**)\n",
        "\n",
        "7. **Resultados**: Comparar los resultados obtenidos utilizando diferentes algoritmos y representaciones.  Pueden mostrar los resultados sobre la partición de validación en caso que la generen o sobre los resultados del conjunto de testing. Mostrar los resultados en alguna tabla, pueden poner aquí también los resultados obtenidos al realizar la submission. (**0.5 puntos**)\n",
        "\n",
        "8. **Conclusiones**:  Discutir resultados, proponer trabajo futuro. (**0.5 puntos**)"
      ]
    },
    {
      "cell_type": "markdown",
      "metadata": {
        "id": "LMSn_tDYwOb1"
      },
      "source": [
        "## **Descripción Baseline**"
      ]
    },
    {
      "cell_type": "markdown",
      "metadata": {
        "ExecuteTime": {
          "end_time": "2019-08-21T19:18:43.301002Z",
          "start_time": "2019-08-21T19:18:43.298037Z"
        },
        "id": "30fPWG5pzvIm"
      },
      "source": [
        "` `\n",
        "El baseline de la sección **Experimentos** contiene un código básico que resuelve la task y es el modelo subido por **cc6205-baseline** a la competencia. Pueden modificar el código como quieran siempre y cuando no cambien las funciones de las métricas y el formato en que se suben los archivos a la competencia, ya que ese es el formato en que realizamos la evaluación. En concretro, el baseline hace lo siguiente:\n",
        "` `\n",
        "\n",
        "- Obtiene los datasets desde el repositorio del curso.\n",
        "- Divide los datasets en train (datos que están etiquetados) y target set (datos no etiquetados para la competencia). Además, por cada dataset en train, se divide en un conjunto de entrenamiento y uno de prueba. Aquí la mejor práctica sería cambiar el código para obtener un conjunto de entrenamiento, validación y prueba.\n",
        "\n",
        "- Crea un Pipeline que: \n",
        "    - Crea features personalizados para la representación numérica.\n",
        "    - Transforma los dataset a bag of words (BoW).  \n",
        "    - Entrena un clasificador usando cada train set.\n",
        "- Clasifica y evalua el sistema creado usando el test set.\n",
        "- Clasifica el target set.\n",
        "- Genera una submission con el target en formato zip en el directorio en donde se está ejecutando el notebook. \n",
        "\n",
        "` `\n",
        "\n",
        "Algunas pistas sobre como mejorar el rendimiento de los sistemas que creen. (Esto tendrá mas sentido cuando vean el código)\n",
        "\n",
        "- **Vectorizador**: Investigar los modulos de `nltk`, en particular, `TweetTokenizer`, `mark_negation` para reemplazar los tokenizadores. También, el parámetro `ngram_range` (Ojo que el clf naive bayes no debería usarse con n-gramas, ya que rompe el supuesto de independencia). Además, implementar los atributos que crean útiles desde el listado del enunciado. Investigar también el vectorizador tf-idf.\n",
        "\n",
        "- **Clasificador**: Investigar otros clasificadores más efectivos que naive bayes. Estos deben poder retornar la probabilidad de pertenecia de las clases (ie: implementar la función `predict_proba`).\n",
        "\n",
        "- **Features**: Recuerden que pueden implementar todas las features que se les ocurra! Aquí les adjuntamos algunos ejemplos:\n",
        "    -\tWord n-grams.\n",
        "    -\tCharacter n-grams. \n",
        "    -\tPart-of-speech tags.\n",
        "    -\tSentiment Lexicons (Lexicon = A set of words with a label or associated value.).\n",
        "        - Count the number of positive and negative words within a sentence.\n",
        "        - If the lexicon has associated intensity of feeling (for example in a decimal), then take the average of the intensity of the sentence according to the feeling, the sum, etc.\n",
        "        -\tA good lexicon of sentiment: [Bing Liu](http://www.cs.uic.edu/~liub/FBS/opinion-lexicon-English.rar) \n",
        "        - A reference with a lot of [sentiment lexicons](https://medium.com/@datamonsters/sentiment-analysis-tools-overview-part-1-positive-and-negative-words-databases-ae35431a470c). \n",
        "    -\tThe number of elongated words (words with one character repeated more than two times).\n",
        "    -\tThe number of words with all characters in uppercase.\n",
        "    -\tThe presence and the number of positive or negative emoticons.\n",
        "    -\tThe number of individual negations.\n",
        "    -\tThe number of contiguous sequences of dots, question marks and exclamation marks.\n",
        "    -\tWord Embeddings: Here are some good ideas on how to use them.\n",
        "    https://stats.stackexchange.com/questions/221715/apply-word-embeddings-to-entire-document-to-get-a-feature-vector\n",
        "\n",
        "- **Reducción de dimensionalidad**: También puede serles de ayuda. Referencias [aquí](https://scikit-learn.org/stable/modules/unsupervised_reduction.html).\n",
        "\n",
        "- Por último, pueden encontrar mas referencias de cómo mejorar sus features, el vectorizador y el clasificador [aquí](https://affectivetweets.cms.waikato.ac.nz/benchmark/)."
      ]
    },
    {
      "cell_type": "markdown",
      "metadata": {
        "id": "IT7ZpVRuzGAF"
      },
      "source": [
        "# **Entregable.**"
      ]
    },
    {
      "cell_type": "markdown",
      "metadata": {
        "ExecuteTime": {
          "end_time": "2020-03-31T13:34:25.683540Z",
          "start_time": "2020-03-31T13:34:25.673430Z"
        },
        "id": "E29LEMZ9zvIo"
      },
      "source": [
        "## **1. Introducción**"
      ]
    },
    {
      "cell_type": "markdown",
      "metadata": {
        "id": "W20NnoduzvIo"
      },
      "source": [
        "    Escriba su introducción aquí"
      ]
    },
    {
      "cell_type": "markdown",
      "metadata": {
        "ExecuteTime": {
          "end_time": "2020-03-31T13:47:13.474238Z",
          "start_time": "2020-03-31T13:47:13.454068Z"
        },
        "id": "OTAIEnSJzvIp"
      },
      "source": [
        "## **2. Representaciones**"
      ]
    },
    {
      "cell_type": "markdown",
      "metadata": {
        "ExecuteTime": {
          "end_time": "2020-03-31T13:47:17.719268Z",
          "start_time": "2020-03-31T13:47:17.709207Z"
        },
        "id": "EV1qBv-MzvIp"
      },
      "source": [
        "    Escriba sus decisiones para la representación"
      ]
    },
    {
      "cell_type": "markdown",
      "metadata": {
        "id": "kMOjYSQezvIq"
      },
      "source": [
        "## **3. Algoritmos**"
      ]
    },
    {
      "cell_type": "markdown",
      "metadata": {
        "id": "8bPiFs33zilS"
      },
      "source": [
        "    Explique los algoritmos utilizados"
      ]
    },
    {
      "cell_type": "markdown",
      "metadata": {
        "ExecuteTime": {
          "end_time": "2020-03-31T13:47:52.064631Z",
          "start_time": "2020-03-31T13:47:52.044451Z"
        },
        "id": "ECjkdgdwzvIq"
      },
      "source": [
        "## **4. Métricas de Evaluación**"
      ]
    },
    {
      "cell_type": "markdown",
      "metadata": {
        "id": "O6eHJdHBzvIr"
      },
      "source": [
        "- AUC: ...\n",
        "- Kappa: ...\n",
        "- Accuracy: ...\n"
      ]
    },
    {
      "cell_type": "markdown",
      "metadata": {
        "id": "SJyTrr2onLOo"
      },
      "source": [
        "## **5. Diseño experimental**"
      ]
    },
    {
      "cell_type": "markdown",
      "metadata": {
        "id": "qnhEwjh_nP9M"
      },
      "source": [
        "    Descripción de la metodología "
      ]
    },
    {
      "cell_type": "markdown",
      "metadata": {
        "id": "OX5Ib_pCzvIr"
      },
      "source": [
        "## **6. Experimentos**"
      ]
    },
    {
      "cell_type": "markdown",
      "metadata": {
        "ExecuteTime": {
          "end_time": "2020-03-31T13:31:40.023344Z",
          "start_time": "2020-03-31T13:31:40.003541Z"
        },
        "id": "aK24MJ8jzvIr"
      },
      "source": [
        "### Importar librerías"
      ]
    },
    {
      "cell_type": "code",
      "execution_count": 238,
      "metadata": {
        "ExecuteTime": {
          "end_time": "2020-04-07T15:44:20.587160Z",
          "start_time": "2020-04-07T15:44:19.319386Z"
        },
        "id": "FukgFUTUzvIs"
      },
      "outputs": [],
      "source": [
        "import pandas as pd\n",
        "import os\n",
        "import numpy as np\n",
        "import shutil\n",
        "\n",
        "from sklearn.feature_extraction.text import CountVectorizer\n",
        "from sklearn.naive_bayes import MultinomialNB\n",
        "from sklearn.pipeline import Pipeline, FeatureUnion\n",
        "from sklearn.metrics import confusion_matrix, cohen_kappa_score, classification_report, accuracy_score, roc_auc_score\n",
        "from sklearn.model_selection import train_test_split\n",
        "from sklearn.base import BaseEstimator, TransformerMixin\n",
        "\n",
        "\n"
      ]
    },
    {
      "cell_type": "markdown",
      "metadata": {
        "id": "FevBPus0zvIs"
      },
      "source": [
        "### Definir métodos de evaluación (**NO tocar este código**)\n",
        "\n",
        "Estas funciones están a cargo de evaluar los resultados de la tarea. No deberían cambiarlas.\n"
      ]
    },
    {
      "cell_type": "code",
      "execution_count": 239,
      "metadata": {
        "ExecuteTime": {
          "end_time": "2020-04-07T15:44:20.604066Z",
          "start_time": "2020-04-07T15:44:20.589106Z"
        },
        "id": "9wlllV7PzvIs"
      },
      "outputs": [],
      "source": [
        "def auc_score(test_set, predicted_set):\n",
        "    high_predicted = np.array([prediction[2] for prediction in predicted_set])\n",
        "    medium_predicted = np.array(\n",
        "        [prediction[1] for prediction in predicted_set])\n",
        "    low_predicted = np.array([prediction[0] for prediction in predicted_set])\n",
        "    high_test = np.where(test_set == 'high', 1.0, 0.0)\n",
        "    medium_test = np.where(test_set == 'medium', 1.0, 0.0)\n",
        "    low_test = np.where(test_set == 'low', 1.0, 0.0)\n",
        "    auc_high = roc_auc_score(high_test, high_predicted)\n",
        "    auc_med = roc_auc_score(medium_test, medium_predicted)\n",
        "    auc_low = roc_auc_score(low_test, low_predicted)\n",
        "    auc_w = (low_test.sum() * auc_low + medium_test.sum() * auc_med +\n",
        "             high_test.sum() * auc_high) / (\n",
        "                 low_test.sum() + medium_test.sum() + high_test.sum())\n",
        "    return auc_w\n",
        "\n",
        "\n",
        "def evaluate(predicted_probabilities, y_test, labels, dataset_name):\n",
        "    # Importante: al transformar los arreglos de probabilidad a clases,\n",
        "    # entregar el arreglo de clases aprendido por el clasificador.\n",
        "    # (que comunmente, es distinto a ['low', 'medium', 'high'])\n",
        "    predicted_labels = [\n",
        "        labels[np.argmax(item)] for item in predicted_probabilities\n",
        "    ]\n",
        "\n",
        "    print('Confusion Matrix for {}:\\n'.format(dataset_name))\n",
        "    print(\n",
        "        confusion_matrix(y_test,\n",
        "                         predicted_labels,\n",
        "                         labels=['low', 'medium', 'high']))\n",
        "\n",
        "    print('\\nClassification Report:\\n')\n",
        "    print(\n",
        "        classification_report(y_test,\n",
        "                              predicted_labels,\n",
        "                              labels=['low', 'medium', 'high']))\n",
        "    # Reorder predicted probabilities array.\n",
        "    labels = labels.tolist()\n",
        "    \n",
        "    predicted_probabilities = predicted_probabilities[:, [\n",
        "        labels.index('low'),\n",
        "        labels.index('medium'),\n",
        "        labels.index('high')\n",
        "    ]]\n",
        "    \n",
        "    \n",
        "    auc = round(auc_score(y_test, predicted_probabilities), 3)\n",
        "    print(\"Scores:\\n\\nAUC: \", auc, end='\\t')\n",
        "    kappa = round(cohen_kappa_score(y_test, predicted_labels), 3)\n",
        "    print(\"Kappa:\", kappa, end='\\t')\n",
        "    accuracy = round(accuracy_score(y_test, predicted_labels), 3)\n",
        "    print(\"Accuracy:\", accuracy)\n",
        "    print('------------------------------------------------------\\n')\n",
        "    return np.array([auc, kappa, accuracy])"
      ]
    },
    {
      "cell_type": "markdown",
      "metadata": {
        "id": "RkOP6ugwzvIt"
      },
      "source": [
        "### Datos\n",
        "\n"
      ]
    },
    {
      "cell_type": "code",
      "execution_count": 240,
      "metadata": {
        "ExecuteTime": {
          "end_time": "2020-04-07T15:44:21.068137Z",
          "start_time": "2020-04-07T15:44:20.606061Z"
        },
        "id": "D1XhFPhrzvIt"
      },
      "outputs": [],
      "source": [
        "# Datasets de entrenamiento.\n",
        "train = {\n",
        "    'anger': pd.read_csv('https://raw.githubusercontent.com/dccuchile/CC6205/master/assignments/assignment_1/data/train/anger-train.txt', sep='\\t', names=['id', 'tweet', 'class', 'sentiment_intensity']),\n",
        "    'fear': pd.read_csv('https://raw.githubusercontent.com/dccuchile/CC6205/master/assignments/assignment_1/data/train/fear-train.txt', sep='\\t', names=['id', 'tweet', 'class', 'sentiment_intensity']),\n",
        "    'joy': pd.read_csv('https://raw.githubusercontent.com/dccuchile/CC6205/master/assignments/assignment_1/data/train/joy-train.txt', sep='\\t', names=['id', 'tweet', 'class', 'sentiment_intensity']),\n",
        "    'sadness': pd.read_csv('https://raw.githubusercontent.com/dccuchile/CC6205/master/assignments/assignment_1/data/train/sadness-train.txt', sep='\\t', names=['id', 'tweet', 'class', 'sentiment_intensity'])\n",
        "}\n",
        "# Datasets que deberán predecir para la competencia.\n",
        "target = {\n",
        "    'anger': pd.read_csv('https://raw.githubusercontent.com/dccuchile/CC6205/master/assignments/assignment_1/data/target/anger-target.txt', sep='\\t', names=['id', 'tweet', 'class', 'sentiment_intensity'], na_values=['NONE']),\n",
        "    'fear': pd.read_csv('https://raw.githubusercontent.com/dccuchile/CC6205/master/assignments/assignment_1/data/target/fear-target.txt', sep='\\t', names=['id', 'tweet', 'class', 'sentiment_intensity'], na_values=['NONE']),\n",
        "    'joy': pd.read_csv('https://raw.githubusercontent.com/dccuchile/CC6205/master/assignments/assignment_1/data/target/joy-target.txt', sep='\\t', names=['id', 'tweet', 'class', 'sentiment_intensity'], na_values=['NONE']),\n",
        "    'sadness': pd.read_csv('https://raw.githubusercontent.com/dccuchile/CC6205/master/assignments/assignment_1/data/target/sadness-target.txt', sep='\\t', names=['id', 'tweet', 'class', 'sentiment_intensity'], na_values=['NONE'])\n",
        "}"
      ]
    },
    {
      "cell_type": "code",
      "execution_count": 241,
      "metadata": {
        "ExecuteTime": {
          "end_time": "2020-04-07T15:44:21.088707Z",
          "start_time": "2020-04-07T15:44:21.069757Z"
        },
        "colab": {
          "base_uri": "https://localhost:8080/",
          "height": 206
        },
        "id": "flg2Zw2mzvIt",
        "outputId": "1f050eab-7ccb-4298-8614-2cbf8d366ab8"
      },
      "outputs": [
        {
          "data": {
            "text/html": [
              "<div>\n",
              "<style scoped>\n",
              "    .dataframe tbody tr th:only-of-type {\n",
              "        vertical-align: middle;\n",
              "    }\n",
              "\n",
              "    .dataframe tbody tr th {\n",
              "        vertical-align: top;\n",
              "    }\n",
              "\n",
              "    .dataframe thead th {\n",
              "        text-align: right;\n",
              "    }\n",
              "</style>\n",
              "<table border=\"1\" class=\"dataframe\">\n",
              "  <thead>\n",
              "    <tr style=\"text-align: right;\">\n",
              "      <th></th>\n",
              "      <th>id</th>\n",
              "      <th>tweet</th>\n",
              "      <th>class</th>\n",
              "      <th>sentiment_intensity</th>\n",
              "    </tr>\n",
              "  </thead>\n",
              "  <tbody>\n",
              "    <tr>\n",
              "      <th>1</th>\n",
              "      <td>10001</td>\n",
              "      <td>So my Indian Uber driver just called someone t...</td>\n",
              "      <td>anger</td>\n",
              "      <td>high</td>\n",
              "    </tr>\n",
              "    <tr>\n",
              "      <th>98</th>\n",
              "      <td>10098</td>\n",
              "      <td>I wonder what American city will be next to pr...</td>\n",
              "      <td>anger</td>\n",
              "      <td>high</td>\n",
              "    </tr>\n",
              "    <tr>\n",
              "      <th>97</th>\n",
              "      <td>10097</td>\n",
              "      <td>@FitnessFirstAU something needs to be done abo...</td>\n",
              "      <td>anger</td>\n",
              "      <td>high</td>\n",
              "    </tr>\n",
              "    <tr>\n",
              "      <th>489</th>\n",
              "      <td>10489</td>\n",
              "      <td>I wonder what would happen if I were to tell s...</td>\n",
              "      <td>anger</td>\n",
              "      <td>medium</td>\n",
              "    </tr>\n",
              "    <tr>\n",
              "      <th>843</th>\n",
              "      <td>10843</td>\n",
              "      <td>one month til someone's bday and i think it's ...</td>\n",
              "      <td>anger</td>\n",
              "      <td>low</td>\n",
              "    </tr>\n",
              "  </tbody>\n",
              "</table>\n",
              "</div>"
            ],
            "text/plain": [
              "        id                                              tweet  class  \\\n",
              "1    10001  So my Indian Uber driver just called someone t...  anger   \n",
              "98   10098  I wonder what American city will be next to pr...  anger   \n",
              "97   10097  @FitnessFirstAU something needs to be done abo...  anger   \n",
              "489  10489  I wonder what would happen if I were to tell s...  anger   \n",
              "843  10843  one month til someone's bday and i think it's ...  anger   \n",
              "\n",
              "    sentiment_intensity  \n",
              "1                  high  \n",
              "98                 high  \n",
              "97                 high  \n",
              "489              medium  \n",
              "843                 low  "
            ]
          },
          "execution_count": 241,
          "metadata": {},
          "output_type": "execute_result"
        }
      ],
      "source": [
        "# Ejemplo de algunas filas aleatorias del dataset etiquetado:\n",
        "train['anger'].sample(5)"
      ]
    },
    {
      "cell_type": "code",
      "execution_count": 242,
      "metadata": {
        "colab": {
          "base_uri": "https://localhost:8080/",
          "height": 206
        },
        "id": "XB7hb7KH2DFK",
        "outputId": "ca8ef916-a259-44e1-db14-e6b716d04435"
      },
      "outputs": [
        {
          "data": {
            "text/html": [
              "<div>\n",
              "<style scoped>\n",
              "    .dataframe tbody tr th:only-of-type {\n",
              "        vertical-align: middle;\n",
              "    }\n",
              "\n",
              "    .dataframe tbody tr th {\n",
              "        vertical-align: top;\n",
              "    }\n",
              "\n",
              "    .dataframe thead th {\n",
              "        text-align: right;\n",
              "    }\n",
              "</style>\n",
              "<table border=\"1\" class=\"dataframe\">\n",
              "  <thead>\n",
              "    <tr style=\"text-align: right;\">\n",
              "      <th></th>\n",
              "      <th>id</th>\n",
              "      <th>tweet</th>\n",
              "      <th>class</th>\n",
              "      <th>sentiment_intensity</th>\n",
              "    </tr>\n",
              "  </thead>\n",
              "  <tbody>\n",
              "    <tr>\n",
              "      <th>274</th>\n",
              "      <td>11215</td>\n",
              "      <td>13 hour @bus rides make me  #sorry</td>\n",
              "      <td>anger</td>\n",
              "      <td>NaN</td>\n",
              "    </tr>\n",
              "    <tr>\n",
              "      <th>98</th>\n",
              "      <td>11039</td>\n",
              "      <td>Using multiple combs simultaneously is what I ...</td>\n",
              "      <td>anger</td>\n",
              "      <td>NaN</td>\n",
              "    </tr>\n",
              "    <tr>\n",
              "      <th>703</th>\n",
              "      <td>11644</td>\n",
              "      <td>@RelUnrelated While I do not see Sailer Mars b...</td>\n",
              "      <td>anger</td>\n",
              "      <td>NaN</td>\n",
              "    </tr>\n",
              "    <tr>\n",
              "      <th>708</th>\n",
              "      <td>11649</td>\n",
              "      <td>@baileygazteacow NO. The gay guy and the dad r...</td>\n",
              "      <td>anger</td>\n",
              "      <td>NaN</td>\n",
              "    </tr>\n",
              "    <tr>\n",
              "      <th>736</th>\n",
              "      <td>11677</td>\n",
              "      <td>Another loss to city in the cup next 🙈 😂😂 cmon...</td>\n",
              "      <td>anger</td>\n",
              "      <td>NaN</td>\n",
              "    </tr>\n",
              "  </tbody>\n",
              "</table>\n",
              "</div>"
            ],
            "text/plain": [
              "        id                                              tweet  class  \\\n",
              "274  11215                 13 hour @bus rides make me  #sorry  anger   \n",
              "98   11039  Using multiple combs simultaneously is what I ...  anger   \n",
              "703  11644  @RelUnrelated While I do not see Sailer Mars b...  anger   \n",
              "708  11649  @baileygazteacow NO. The gay guy and the dad r...  anger   \n",
              "736  11677  Another loss to city in the cup next 🙈 😂😂 cmon...  anger   \n",
              "\n",
              "     sentiment_intensity  \n",
              "274                  NaN  \n",
              "98                   NaN  \n",
              "703                  NaN  \n",
              "708                  NaN  \n",
              "736                  NaN  "
            ]
          },
          "execution_count": 242,
          "metadata": {},
          "output_type": "execute_result"
        }
      ],
      "source": [
        "# Ejemplo de algunas filas aleatorias del dataset no etiquetado\n",
        "target['anger'].sample(5)"
      ]
    },
    {
      "cell_type": "markdown",
      "metadata": {
        "id": "q5aNqEfVzvIv"
      },
      "source": [
        "### Analizar los datos \n",
        "\n",
        "En esta sección analizaremos el balance de los datos. Para ello se imprime la cantidad de tweets de cada dataset agrupados por la intensidad de sentimiento."
      ]
    },
    {
      "cell_type": "code",
      "execution_count": 243,
      "metadata": {
        "ExecuteTime": {
          "end_time": "2020-04-07T15:44:21.117633Z",
          "start_time": "2020-04-07T15:44:21.090703Z"
        },
        "colab": {
          "base_uri": "https://localhost:8080/"
        },
        "id": "u5007JRgzvIv",
        "outputId": "8d5955fe-2dcb-4463-dd48-7acc32b2ba31"
      },
      "outputs": [
        {
          "name": "stdout",
          "output_type": "stream",
          "text": [
            "Dataset: anger \n",
            " sentiment_intensity\n",
            "high      163\n",
            "low       161\n",
            "medium    617\n",
            "dtype: int64\n",
            "----------------------------------------------------------\n",
            "\n",
            "Dataset: fear \n",
            " sentiment_intensity\n",
            "high      270\n",
            "low       288\n",
            "medium    699\n",
            "dtype: int64\n",
            "----------------------------------------------------------\n",
            "\n",
            "Dataset: joy \n",
            " sentiment_intensity\n",
            "high      195\n",
            "low       219\n",
            "medium    488\n",
            "dtype: int64\n",
            "----------------------------------------------------------\n",
            "\n",
            "Dataset: sadness \n",
            " sentiment_intensity\n",
            "high      197\n",
            "low       210\n",
            "medium    453\n",
            "dtype: int64\n",
            "----------------------------------------------------------\n",
            "\n"
          ]
        }
      ],
      "source": [
        "for dataset_name in train:\n",
        "    print(f'Dataset: {dataset_name} \\n', train[dataset_name].groupby(['sentiment_intensity']).size())\n",
        "    print('----------------------------------------------------------\\n')"
      ]
    },
    {
      "cell_type": "markdown",
      "metadata": {
        "id": "stZ6ig5hzvIv"
      },
      "source": [
        "### Custom Features \n",
        "\n",
        "Para crear features personalizadas implementaremos nuestros propios Transformers (estandar de scikit para crear nuevas features entre otras cosas). Para esto:\n",
        "\n",
        "1. Creamos nuestra clase Transformer extendiendo BaseEstimator y TransformerMixin. En este ejemplo, definiremos `CharsCountTransformer` que cuenta caracteres relevantes ('!', '?', '#', '@') en los tweets.\n",
        "2. Definimos una función cómo `get_relevant_chars` que opera por cada tweet y retorna un arreglo.\n",
        "3. Hacemos un override de la función `transform` en donde iteramos por cada tweet, llamamos a la función que hicimos antes y agregamos sus resultados a un arreglo. Finalmente lo retornamos.\n",
        "\n",
        "Esto nos facilitará el trabajo mas adelante. Una Guia completa de las transformaciones predefinidas en scikit pueden encontrarla [aquí](https://scikit-learn.org/stable/data_transforms.html).\n",
        "\n"
      ]
    },
    {
      "cell_type": "code",
      "execution_count": 244,
      "metadata": {
        "ExecuteTime": {
          "end_time": "2020-04-07T15:44:21.128600Z",
          "start_time": "2020-04-07T15:44:21.119624Z"
        },
        "id": "tNPB8zc9zvIw"
      },
      "outputs": [],
      "source": [
        "import emoji\n",
        "\n",
        "class CharsCountTransformer(BaseEstimator, TransformerMixin):\n",
        "    def get_relevant_chars(self, tweet):\n",
        "        num_hashtags = tweet.count('#')\n",
        "        num_exclamations = tweet.count('!')\n",
        "        num_interrogations = tweet.count('?')\n",
        "        num_at = tweet.count('@')\n",
        "        return [num_hashtags, num_exclamations, num_interrogations, num_at]\n",
        "\n",
        "    def transform(self, X, y=None):\n",
        "        chars = []\n",
        "        for tweet in X:\n",
        "            chars.append(self.get_relevant_chars(tweet))\n",
        "\n",
        "        return np.array(chars)\n",
        "\n",
        "    def fit(self, X, y=None):\n",
        "        return self\n",
        "\n",
        "class TweetLengthTransformer(BaseEstimator, TransformerMixin):\n",
        "    def transform(self, X, y=None):\n",
        "        lengths = []\n",
        "        for tweet in X:\n",
        "            lengths.append([len(tweet)])\n",
        "\n",
        "        return np.array(lengths)\n",
        "\n",
        "    def fit(self, X, y=None):\n",
        "        return self\n",
        "\n",
        "\n",
        "class EmojisCountTransformer(BaseEstimator, TransformerMixin):\n",
        "    def get_emojis(self, tweet: str) -> int:\n",
        "        num_emojis = 0\n",
        "        for char in tweet:\n",
        "            if char in emoji.UNICODE_EMOJI['en']:\n",
        "                num_emojis += 1\n",
        "        return num_emojis\n",
        "\n",
        "    def transform(self, X, y=None):\n",
        "        emojis = []\n",
        "        for tweet in X:\n",
        "            emojis.append([self.get_emojis(tweet)])\n",
        "\n",
        "        return np.array(emojis)\n",
        "\n",
        "    def fit(self, X, y=None):\n",
        "        return self\n"
      ]
    },
    {
      "cell_type": "code",
      "execution_count": 245,
      "metadata": {
        "ExecuteTime": {
          "end_time": "2020-04-07T15:44:21.145564Z",
          "start_time": "2020-04-07T15:44:21.131593Z"
        },
        "colab": {
          "base_uri": "https://localhost:8080/"
        },
        "id": "lCQzsuAbzvIw",
        "outputId": "1b087d07-2147-4428-d86c-956232d1b4a2"
      },
      "outputs": [
        {
          "name": "stdout",
          "output_type": "stream",
          "text": [
            "Tweet original: @everycolorbot more like every color looks the same #triggered #colorblind \n",
            "Features creados: [2 0 0 1]\n",
            "Emojis creados: [0]\n",
            "Longitud del tweet: [75]\n"
          ]
        }
      ],
      "source": [
        "# Veamos que sucede si ejecutamos el transformer\n",
        "sample = train['anger'].sample(5, random_state = 1).tweet\n",
        "sample_features = CharsCountTransformer().transform(sample)\n",
        "\n",
        "\n",
        "# Se puede verificar que el conteo de símbolos es consistente con el transformer creado.\n",
        "print(f'Tweet original: {sample.iloc[0]}')\n",
        "print(f'Features creados: {sample_features[0]}')\n",
        "\n",
        "sample_emojis = EmojisCountTransformer().transform(sample)\n",
        "print(f'Emojis creados: {sample_emojis[0]}')\n",
        "\n",
        "sample_lenght = TweetLengthTransformer().transform(sample)\n",
        "print(f'Longitud del tweet: {sample_lenght[0]}')\n"
      ]
    },
    {
      "cell_type": "markdown",
      "metadata": {
        "id": "MO_yIepczvIx"
      },
      "source": [
        "### Definir la representación y el clasificador\n",
        "\n",
        "Para esto, definiremos Pipelines. Un `Pipeline` es una lista de transformaciones y un estimador(clasificador) ubicado al final el cual define el flujo que seguiran nuestros datos dentro del sistema que creemos. Nos permite ejecutar facilmente el mismo proceso sobre todos los datasets que usemos, simplificando así nuestra programación.\n",
        "\n",
        "El pipeline más básico que podemos hacer es transformar el dataset a Bag of Words y después usar clasificar el BoW usando NaiveBayes:\n",
        "\n",
        "```python\n",
        "    Pipeline([('bow', CountVectorizer()), ('clf', MultinomialNB())])\n",
        "```\n",
        "\n",
        "\n",
        "Ahora, si queremos usar nuestra transformación para agregar las features que creamos, usaremos `FeatureUnion`. Esta simplemente concatenará los vectores resultantes de ejecutar BoW y los Transformer en un solo vector.\n",
        "\n",
        "```python\n",
        "    Pipeline([('features',FeatureUnion([('bow', CountVectorizer()),\n",
        "                                        ('chars_count',CharsCountTransformer())])),\n",
        "              ('clf', MultinomialNB())])\n",
        "\n",
        "```\n",
        "\n",
        "\n",
        "\n"
      ]
    },
    {
      "cell_type": "markdown",
      "metadata": {
        "id": "aDbHjXv-zvIx"
      },
      "source": [
        "Recuerden que cada pipeline representa un sistema de clasificación distinto. Por lo mismo, deben instanciar uno por cada problema que resuelvan. De lo contrario, podrían solapar resultados.  Para esto, les recomendamos crear los pipeline en distintas funciones, como la siguiente:"
      ]
    },
    {
      "cell_type": "code",
      "execution_count": 246,
      "metadata": {},
      "outputs": [],
      "source": [
        "from sklearn.feature_extraction.text import TfidfTransformer\n",
        "\n",
        "c_features = [\n",
        "    # ('tfid', TfidfTransformer()),\n",
        "    ('chars_count', CharsCountTransformer()),\n",
        "    ('emojis_count', EmojisCountTransformer()),\n",
        "    ('length', TweetLengthTransformer()),\n",
        "]"
      ]
    },
    {
      "cell_type": "code",
      "execution_count": 247,
      "metadata": {
        "ExecuteTime": {
          "end_time": "2020-04-07T15:44:21.155528Z",
          "start_time": "2020-04-07T15:44:21.149545Z"
        },
        "id": "z_R6tyMCzvIy"
      },
      "outputs": [],
      "source": [
        "def get_experiment_0_pipeline():\n",
        "\n",
        "    return Pipeline([('features',\n",
        "                      FeatureUnion([('bow', CountVectorizer()),\n",
        "                                    ('chars_count', CharsCountTransformer()),\n",
        "                                    ])), ('clf', MultinomialNB())])"
      ]
    },
    {
      "cell_type": "code",
      "execution_count": 248,
      "metadata": {
        "id": "NrLlJ1xynbeY"
      },
      "outputs": [],
      "source": [
        "#Pipeline DecisionTreeClassifier\n",
        "from sklearn.tree import DecisionTreeClassifier\n",
        "tree = DecisionTreeClassifier(criterion='entropy', max_depth=5)\n",
        "def get_experiment_1_pipeline():\n",
        "\n",
        "    return Pipeline([\n",
        "      ('features', FeatureUnion([('bow', CountVectorizer(stop_words='english')), *c_features])), \n",
        "      ('clf', tree)\n",
        "    ])"
      ]
    },
    {
      "cell_type": "code",
      "execution_count": 249,
      "metadata": {
        "id": "j_q_d8rvUCzP"
      },
      "outputs": [],
      "source": [
        "#Pipeline SVC\n",
        "from sklearn.svm import SVC\n",
        "svc = SVC(kernel = 'linear', probability=True)\n",
        "def get_experiment_2_pipeline():\n",
        "\n",
        "    return Pipeline([\n",
        "        ('features', FeatureUnion([('bow', CountVectorizer(stop_words='english')), *c_features])), \n",
        "        ('clf', svc)\n",
        "    ])"
      ]
    },
    {
      "cell_type": "code",
      "execution_count": 250,
      "metadata": {
        "id": "xtLbWWlTf9Eg"
      },
      "outputs": [],
      "source": [
        "#Pipeline randomforest\n",
        "from sklearn import ensemble\n",
        "forrest = ensemble.RandomForestClassifier(criterion='entropy', max_depth=5)\n",
        "def get_experiment_3_pipeline():\n",
        "\n",
        "    return Pipeline([\n",
        "        ('features', FeatureUnion([('bow', CountVectorizer(stop_words='english')), *c_features])), \n",
        "        ('clf', forrest)\n",
        "    ])"
      ]
    },
    {
      "cell_type": "code",
      "execution_count": 251,
      "metadata": {
        "id": "GQha4zy786CA"
      },
      "outputs": [],
      "source": [
        "#pipeline KNN\n",
        "from sklearn.neighbors import KNeighborsClassifier\n",
        "knd = KNeighborsClassifier(n_neighbors=3)\n",
        "def get_experiment_4_pipeline():\n",
        "\n",
        "    return Pipeline([\n",
        "        ('features', FeatureUnion([('bow', CountVectorizer(stop_words='english')), *c_features,])), \n",
        "        ('clf', knd)\n",
        "    ])"
      ]
    },
    {
      "cell_type": "code",
      "execution_count": 252,
      "metadata": {},
      "outputs": [],
      "source": [
        "# sgd\n",
        "from sklearn.linear_model import SGDClassifier\n",
        "sgd = SGDClassifier()\n",
        "def get_experiment_5_pipeline():\n",
        "\n",
        "    return Pipeline([\n",
        "        ('features', FeatureUnion([('bow', CountVectorizer(stop_words='english')), *c_features,])), \n",
        "        ('clf', sgd)\n",
        "    ])"
      ]
    },
    {
      "cell_type": "code",
      "execution_count": null,
      "metadata": {},
      "outputs": [],
      "source": []
    },
    {
      "cell_type": "code",
      "execution_count": 253,
      "metadata": {
        "id": "VV64Ve4oVciZ"
      },
      "outputs": [],
      "source": [
        "def run_classifier(clf, X, y, num_tests=100):\n",
        "    metrics = {'accuracy': []}\n",
        "    \n",
        "    for _ in range(num_tests):\n",
        "        X_train, X_test, y_train, y_test = train_test_split(X, y, test_size=.30)\n",
        "        \n",
        "        clf.fit(X_train,y_train)\n",
        "        predictions = clf.predict(X_test)\n",
        "        \n",
        "        metrics['y_pred'] = predictions\n",
        "        metrics['accuracy'].append(accuracy_score(y_test, predictions)) \n",
        "    return metrics"
      ]
    },
    {
      "cell_type": "code",
      "execution_count": 264,
      "metadata": {
        "colab": {
          "base_uri": "https://localhost:8080/"
        },
        "id": "UlGrdEiKV5gE",
        "outputId": "e8ec1e77-08cf-4b59-8123-ed36b505cdd6"
      },
      "outputs": [
        {
          "name": "stdout",
          "output_type": "stream",
          "text": [
            "----------------\n",
            "Resultados para clasificador:  baseline\n",
            "Accuracy promedio: 0.5273103448275862\n",
            "----------------\n",
            "\n",
            "\n",
            "----------------\n",
            "Resultados para clasificador:  decision_tree\n",
            "Accuracy promedio: 0.4583448275862069\n",
            "----------------\n",
            "\n",
            "\n",
            "----------------\n",
            "Resultados para clasificador:  svc\n",
            "Accuracy promedio: 0.5473103448275862\n",
            "----------------\n",
            "\n",
            "\n",
            "----------------\n",
            "Resultados para clasificador:  random_forest\n",
            "Accuracy promedio: 0.48165517241379313\n",
            "----------------\n",
            "\n",
            "\n",
            "----------------\n",
            "Resultados para clasificador:  knn\n",
            "Accuracy promedio: 0.3975172413793103\n",
            "----------------\n",
            "\n",
            "\n",
            "----------------\n",
            "Resultados para clasificador:  sgd\n",
            "Accuracy promedio: 0.352\n",
            "----------------\n",
            "\n",
            "\n",
            "El clasificador svc es el mejor para el sentimiento anger\n",
            "----------------\n",
            "Resultados para clasificador:  baseline\n",
            "Accuracy promedio: 0.5214814814814814\n",
            "----------------\n",
            "\n",
            "\n",
            "----------------\n",
            "Resultados para clasificador:  decision_tree\n",
            "Accuracy promedio: 0.46197530864197534\n",
            "----------------\n",
            "\n",
            "\n",
            "----------------\n",
            "Resultados para clasificador:  svc\n",
            "Accuracy promedio: 0.5410699588477366\n",
            "----------------\n",
            "\n",
            "\n",
            "----------------\n",
            "Resultados para clasificador:  random_forest\n",
            "Accuracy promedio: 0.48337448559670776\n",
            "----------------\n",
            "\n",
            "\n",
            "----------------\n",
            "Resultados para clasificador:  knn\n",
            "Accuracy promedio: 0.3438683127572017\n",
            "----------------\n",
            "\n",
            "\n",
            "----------------\n",
            "Resultados para clasificador:  sgd\n",
            "Accuracy promedio: 0.35654320987654325\n",
            "----------------\n",
            "\n",
            "\n",
            "El clasificador svc es el mejor para el sentimiento fear\n",
            "----------------\n",
            "Resultados para clasificador:  baseline\n",
            "Accuracy promedio: 0.5795454545454546\n",
            "----------------\n",
            "\n",
            "\n",
            "----------------\n",
            "Resultados para clasificador:  decision_tree\n",
            "Accuracy promedio: 0.520340909090909\n",
            "----------------\n",
            "\n",
            "\n",
            "----------------\n",
            "Resultados para clasificador:  svc\n",
            "Accuracy promedio: 0.5795454545454546\n",
            "----------------\n",
            "\n",
            "\n",
            "----------------\n",
            "Resultados para clasificador:  random_forest\n",
            "Accuracy promedio: 0.5380681818181818\n",
            "----------------\n",
            "\n",
            "\n",
            "----------------\n",
            "Resultados para clasificador:  knn\n",
            "Accuracy promedio: 0.40852272727272726\n",
            "----------------\n",
            "\n",
            "\n",
            "----------------\n",
            "Resultados para clasificador:  sgd\n",
            "Accuracy promedio: 0.39852272727272736\n",
            "----------------\n",
            "\n",
            "\n",
            "No se ha superado el baseline para el sentimiento: joy\n",
            "----------------\n",
            "Resultados para clasificador:  baseline\n",
            "Accuracy promedio: 0.5234831460674157\n",
            "----------------\n",
            "\n",
            "\n",
            "----------------\n",
            "Resultados para clasificador:  decision_tree\n",
            "Accuracy promedio: 0.4639325842696629\n",
            "----------------\n",
            "\n",
            "\n",
            "----------------\n",
            "Resultados para clasificador:  svc\n",
            "Accuracy promedio: 0.5229213483146068\n",
            "----------------\n",
            "\n",
            "\n",
            "----------------\n",
            "Resultados para clasificador:  random_forest\n",
            "Accuracy promedio: 0.46865168539325835\n",
            "----------------\n",
            "\n",
            "\n",
            "----------------\n",
            "Resultados para clasificador:  knn\n",
            "Accuracy promedio: 0.40898876404494383\n",
            "----------------\n",
            "\n",
            "\n",
            "----------------\n",
            "Resultados para clasificador:  sgd\n",
            "Accuracy promedio: 0.3514606741573033\n",
            "----------------\n",
            "\n",
            "\n",
            "No se ha superado el baseline para el sentimiento: sadness\n"
          ]
        }
      ],
      "source": [
        "from sklearn.metrics import accuracy_score\n",
        "c0 = (\"baseline\", get_experiment_0_pipeline())\n",
        "c1 = (\"decision_tree\", get_experiment_1_pipeline())\n",
        "c2 = (\"svc\", get_experiment_2_pipeline())\n",
        "c3 = (\"random_forest\", get_experiment_3_pipeline())\n",
        "c4 = (\"knn\", get_experiment_4_pipeline())\n",
        "c5 = (\"sgd\", get_experiment_5_pipeline())\n",
        "\n",
        "classifiers = [c0, c1, c2, c3, c4, c5]\n",
        "\n",
        "\n",
        "best = { feeling : None for feeling in train }\n",
        "\n",
        "# Subsampling\n",
        "for feeling in train:\n",
        "    results = {}\n",
        "    acc_mean = {}\n",
        "\n",
        "    df_grouped_by = train[feeling].groupby(['sentiment_intensity'])\n",
        "\n",
        "    df_balanced = df_grouped_by.apply(lambda x: x.sample(df_grouped_by.size().min()).reset_index(drop=True))\n",
        "\n",
        "    df_balanced = df_balanced.droplevel(['sentiment_intensity'])\n",
        "\n",
        "    for name, clf in classifiers:\n",
        "        metrics = run_classifier(clf, df_balanced['tweet'], df_balanced['sentiment_intensity'], num_tests=50)\n",
        "        results[name] = metrics\n",
        "        print(\"----------------\")\n",
        "        print(\"Resultados para clasificador: \", name) \n",
        "        print(\"Accuracy promedio:\", np.array(metrics['accuracy']).mean())\n",
        "        print(\"----------------\\n\\n\")\n",
        "        acc_mean[name] = np.array(metrics['accuracy']).mean()\n",
        "    \n",
        "    _best = max(acc_mean, key=acc_mean.get)\n",
        "    if _best == \"baseline\":\n",
        "        print(f\"No se ha superado el baseline para el sentimiento: {feeling}\")\n",
        "    else:\n",
        "        print(f\"El clasificador {_best} es el mejor para el sentimiento {feeling}\")\n",
        "    best[feeling] = [clf for name, clf in classifiers if name == _best][0]"
      ]
    },
    {
      "cell_type": "code",
      "execution_count": 265,
      "metadata": {},
      "outputs": [
        {
          "data": {
            "text/plain": [
              "{'anger': Pipeline(steps=[('features',\n",
              "                  FeatureUnion(transformer_list=[('bow',\n",
              "                                                  CountVectorizer(stop_words='english')),\n",
              "                                                 ('chars_count',\n",
              "                                                  CharsCountTransformer()),\n",
              "                                                 ('emojis_count',\n",
              "                                                  EmojisCountTransformer()),\n",
              "                                                 ('length',\n",
              "                                                  TweetLengthTransformer())])),\n",
              "                 ('clf', SVC(kernel='linear', probability=True))]),\n",
              " 'fear': Pipeline(steps=[('features',\n",
              "                  FeatureUnion(transformer_list=[('bow',\n",
              "                                                  CountVectorizer(stop_words='english')),\n",
              "                                                 ('chars_count',\n",
              "                                                  CharsCountTransformer()),\n",
              "                                                 ('emojis_count',\n",
              "                                                  EmojisCountTransformer()),\n",
              "                                                 ('length',\n",
              "                                                  TweetLengthTransformer())])),\n",
              "                 ('clf', SVC(kernel='linear', probability=True))]),\n",
              " 'joy': Pipeline(steps=[('features',\n",
              "                  FeatureUnion(transformer_list=[('bow', CountVectorizer()),\n",
              "                                                 ('chars_count',\n",
              "                                                  CharsCountTransformer())])),\n",
              "                 ('clf', MultinomialNB())]),\n",
              " 'sadness': Pipeline(steps=[('features',\n",
              "                  FeatureUnion(transformer_list=[('bow', CountVectorizer()),\n",
              "                                                 ('chars_count',\n",
              "                                                  CharsCountTransformer())])),\n",
              "                 ('clf', MultinomialNB())])}"
            ]
          },
          "execution_count": 265,
          "metadata": {},
          "output_type": "execute_result"
        }
      ],
      "source": [
        "best"
      ]
    },
    {
      "cell_type": "markdown",
      "metadata": {
        "id": "gmMdm98vzvIy"
      },
      "source": [
        "### Ejecutar el pipeline para algún dataset"
      ]
    },
    {
      "cell_type": "code",
      "execution_count": 269,
      "metadata": {
        "ExecuteTime": {
          "end_time": "2020-04-07T15:44:21.167498Z",
          "start_time": "2020-04-07T15:44:21.157540Z"
        },
        "id": "_eX0cEu-zvIz",
        "scrolled": true
      },
      "outputs": [],
      "source": [
        "def run(dataset, dataset_name, pipeline):\n",
        "    \"\"\"Creamos el pipeline y luego lo ejecutamos el pipeline sobre un dataset. \n",
        "    Retorna el modelo ya entrenado mas sus labels asociadas y los scores obtenidos al evaluarlo.\"\"\"\n",
        "\n",
        "    # Dividimos el dataset en train y test, aún no se transforma de Strings a valores numéricos.\n",
        "    X_train, X_test, y_train, y_test = train_test_split(\n",
        "        dataset.tweet,\n",
        "        dataset.sentiment_intensity,\n",
        "        shuffle=True,\n",
        "        test_size=0.33)\n",
        "    \n",
        "    print(f'# Datos de entrenamiento en dataset {dataset_name}: {len(X_train)}')\n",
        "    print(f'# Datos de testing en dataset {dataset_name}: {len(X_test)}')\n",
        "\n",
        "    # Entrenamos el clasificador (Ejecuta el entrenamiento sobre todo el pipeline). \n",
        "    # En este caso el Bag of Words es el encargado de transformar de Strings a vectores numéricos.\n",
        "    pipeline.fit(X_train, y_train)\n",
        "\n",
        "    # Predecimos las probabilidades de intensidad de cada elemento del set de prueba.\n",
        "    predicted_probabilities = pipeline.predict_proba(X_test)\n",
        "\n",
        "    # Obtenemos el orden de las clases aprendidas.\n",
        "    learned_labels = pipeline.classes_\n",
        "    \n",
        "    # Evaluamos:\n",
        "    scores = evaluate(predicted_probabilities, y_test, learned_labels, dataset_name)\n",
        "    return pipeline, learned_labels, scores\n",
        "\n",
        "def runv2(dataset, dataset_name, pipeline, balance: bool = True):\n",
        "    if not balance:\n",
        "        return run(dataset, dataset_name, pipeline)\n",
        "\n",
        "    df_grouped_by = dataset.groupby(['sentiment_intensity'])\n",
        "\n",
        "    df_balanced = df_grouped_by.apply(lambda x: x.sample(df_grouped_by.size().min()).reset_index(drop=True))\n",
        "\n",
        "    df_balanced = df_balanced.droplevel(['sentiment_intensity'])\n",
        "    return run(df_balanced, dataset_name, pipeline)"
      ]
    },
    {
      "cell_type": "markdown",
      "metadata": {
        "id": "z96C1ZOfzvIz"
      },
      "source": [
        "### Ejecutar el sistema creado por cada train set\n",
        "\n",
        "Este código crea y entrena los 4 sistemas de clasificación y luego los evalua. Para los experimentos, pueden copiar este código variando el pipeline cuantas veces estimen conveniente."
      ]
    },
    {
      "cell_type": "code",
      "execution_count": 270,
      "metadata": {
        "ExecuteTime": {
          "end_time": "2020-04-07T15:44:21.384119Z",
          "start_time": "2020-04-07T15:44:21.170488Z"
        },
        "colab": {
          "base_uri": "https://localhost:8080/"
        },
        "id": "OXAxZBdVzvI0",
        "outputId": "92ee8b44-7fe6-4f3b-c2c8-0baf9521905c",
        "scrolled": false
      },
      "outputs": [
        {
          "name": "stdout",
          "output_type": "stream",
          "text": [
            "# Datos de entrenamiento en dataset anger: 323\n",
            "# Datos de testing en dataset anger: 160\n",
            "Confusion Matrix for anger:\n",
            "\n",
            "[[21 28  2]\n",
            " [20 17 13]\n",
            " [ 5 16 38]]\n",
            "\n",
            "Classification Report:\n",
            "\n",
            "              precision    recall  f1-score   support\n",
            "\n",
            "         low       0.46      0.41      0.43        51\n",
            "      medium       0.28      0.34      0.31        50\n",
            "        high       0.72      0.64      0.68        59\n",
            "\n",
            "    accuracy                           0.48       160\n",
            "   macro avg       0.48      0.47      0.47       160\n",
            "weighted avg       0.50      0.47      0.48       160\n",
            "\n",
            "Scores:\n",
            "\n",
            "AUC:  0.717\tKappa: 0.213\tAccuracy: 0.475\n",
            "------------------------------------------------------\n",
            "\n",
            "# Datos de entrenamiento en dataset fear: 542\n",
            "# Datos de testing en dataset fear: 268\n",
            "Confusion Matrix for fear:\n",
            "\n",
            "[[61  9 11]\n",
            " [46 23 32]\n",
            " [19 13 54]]\n",
            "\n",
            "Classification Report:\n",
            "\n",
            "              precision    recall  f1-score   support\n",
            "\n",
            "         low       0.48      0.75      0.59        81\n",
            "      medium       0.51      0.23      0.32       101\n",
            "        high       0.56      0.63      0.59        86\n",
            "\n",
            "    accuracy                           0.51       268\n",
            "   macro avg       0.52      0.54      0.50       268\n",
            "weighted avg       0.52      0.51      0.49       268\n",
            "\n",
            "Scores:\n",
            "\n",
            "AUC:  0.715\tKappa: 0.285\tAccuracy: 0.515\n",
            "------------------------------------------------------\n",
            "\n",
            "# Datos de entrenamiento en dataset joy: 391\n",
            "# Datos de testing en dataset joy: 194\n",
            "Confusion Matrix for joy:\n",
            "\n",
            "[[39 20 11]\n",
            " [22 25 14]\n",
            " [ 4  8 51]]\n",
            "\n",
            "Classification Report:\n",
            "\n",
            "              precision    recall  f1-score   support\n",
            "\n",
            "         low       0.60      0.56      0.58        70\n",
            "      medium       0.47      0.41      0.44        61\n",
            "        high       0.67      0.81      0.73        63\n",
            "\n",
            "    accuracy                           0.59       194\n",
            "   macro avg       0.58      0.59      0.58       194\n",
            "weighted avg       0.58      0.59      0.58       194\n",
            "\n",
            "Scores:\n",
            "\n",
            "AUC:  0.786\tKappa: 0.389\tAccuracy: 0.593\n",
            "------------------------------------------------------\n",
            "\n",
            "# Datos de entrenamiento en dataset sadness: 395\n",
            "# Datos de testing en dataset sadness: 196\n",
            "Confusion Matrix for sadness:\n",
            "\n",
            "[[33 31  5]\n",
            " [15 32 11]\n",
            " [11 17 41]]\n",
            "\n",
            "Classification Report:\n",
            "\n",
            "              precision    recall  f1-score   support\n",
            "\n",
            "         low       0.56      0.48      0.52        69\n",
            "      medium       0.40      0.55      0.46        58\n",
            "        high       0.72      0.59      0.65        69\n",
            "\n",
            "    accuracy                           0.54       196\n",
            "   macro avg       0.56      0.54      0.54       196\n",
            "weighted avg       0.57      0.54      0.55       196\n",
            "\n",
            "Scores:\n",
            "\n",
            "AUC:  0.727\tKappa: 0.316\tAccuracy: 0.541\n",
            "------------------------------------------------------\n",
            "\n",
            "Average scores:\n",
            "\n",
            " Average AUC: 0.736\t Average Kappa: 0.301\t Average Accuracy: 0.531\n"
          ]
        }
      ],
      "source": [
        "classifiers = []\n",
        "learned_labels_array = []\n",
        "scores_array = []\n",
        "\n",
        "# Por cada nombre_dataset, dataset en train ('anger', 'fear', 'joy', 'sadness')\n",
        "for dataset_name, dataset in train.items():\n",
        "    \n",
        "    # creamos el pipeline\n",
        "    pipeline = get_experiment_2_pipeline()\n",
        "    \n",
        "    # ejecutamos el pipeline sobre el dataset\n",
        "    classifier, learned_labels, scores = runv2(dataset, dataset_name, pipeline)\n",
        "\n",
        "    # guardamos el clasificador entrenado (en realidad es el pipeline ya entrenado...)\n",
        "    classifiers.append(classifier)\n",
        "\n",
        "    # guardamos las labels aprendidas por el clasificador\n",
        "    learned_labels_array.append(learned_labels)\n",
        "\n",
        "    # guardamos los scores obtenidos\n",
        "    scores_array.append(scores)\n",
        "\n",
        "# print avg scores\n",
        "print(\n",
        "    \"Average scores:\\n\\n\",\n",
        "    \"Average AUC: {0:.3g}\\t Average Kappa: {1:.3g}\\t Average Accuracy: {2:.3g}\"\n",
        "    .format(*np.array(scores_array).mean(axis=0)))"
      ]
    },
    {
      "cell_type": "markdown",
      "metadata": {
        "ExecuteTime": {
          "end_time": "2019-08-21T19:37:43.169737Z",
          "start_time": "2019-08-21T19:37:43.166744Z"
        },
        "id": "IUKwcde_zvI0"
      },
      "source": [
        "### Predecir los target set y crear la submission\n",
        "\n",
        "Aquí predecimos los target set usando los clasificadores creados y creamos los archivos de las submissions."
      ]
    },
    {
      "cell_type": "code",
      "execution_count": 267,
      "metadata": {
        "ExecuteTime": {
          "end_time": "2020-04-07T15:44:21.392097Z",
          "start_time": "2020-04-07T15:44:21.386114Z"
        },
        "id": "mWDUoSmbzvI1"
      },
      "outputs": [],
      "source": [
        "def predict_target(dataset, classifier, labels):\n",
        "    # Predecir las probabilidades de intensidad de cada elemento del target set.\n",
        "    predicted = pd.DataFrame(classifier.predict_proba(dataset.tweet), columns=labels)\n",
        "    \n",
        "    # Agregar ids\n",
        "    predicted['id'] = dataset.id.values\n",
        "    # Reordenar las columnas\n",
        "    predicted = predicted[['id', 'low', 'medium', 'high']]\n",
        "    return predicted"
      ]
    },
    {
      "cell_type": "code",
      "execution_count": 258,
      "metadata": {
        "ExecuteTime": {
          "end_time": "2020-04-07T15:44:21.588573Z",
          "start_time": "2020-04-07T15:44:21.394094Z"
        },
        "id": "5CJ4PTwZzvI1",
        "scrolled": true
      },
      "outputs": [],
      "source": [
        "predicted_target = {}\n",
        "\n",
        "# Crear carpeta ./predictions\n",
        "if (not os.path.exists('./predictions')):\n",
        "    os.mkdir('./predictions')\n",
        "\n",
        "else:\n",
        "    # Eliminar predicciones anteriores:\n",
        "    shutil.rmtree('./predictions')\n",
        "    os.mkdir('./predictions')\n",
        "\n",
        "# por cada target set:\n",
        "for idx, key in enumerate(target):\n",
        "    # Predecirlo\n",
        "    predicted_target[key] = predict_target(target[key], classifiers[idx],\n",
        "                                           learned_labels_array[idx])\n",
        "    # Guardar predicciones en archivos separados. \n",
        "    predicted_target[key].to_csv('./predictions/{}-pred.txt'.format(key),\n",
        "                                 sep='\\t',\n",
        "                                 header=False,\n",
        "                                 index=False)\n",
        "\n",
        "# Crear archivo zip\n",
        "a = shutil.make_archive('predictions', 'zip', './predictions')"
      ]
    },
    {
      "cell_type": "markdown",
      "metadata": {
        "id": "mCAyJIj8nTlU"
      },
      "source": [
        "## **7. Resultados**"
      ]
    },
    {
      "cell_type": "markdown",
      "metadata": {
        "id": "nAYwupS3naYX"
      },
      "source": [
        "    Muestre y analice sus resultados aquí\n",
        "\n",
        "A continuación una tabla de ejemplo para mostrar los resultados.  En este caso sólo está el experimento del baseline más otro clasificador, pero ustedes debiesen generar una mayor cantidad de experimentos. \n",
        "\n",
        "| No. | Approach                       || Dataset   | AUC   | Kappa | Accuracy |\n",
        "|-----|--------------------------------||-----------|-------|-------|----------|\n",
        "|     | Features        | Clasifier     |           |       |       |          |\n",
        "| 0   | bow+chars_count | MultinomialNB | anger     | 0.622 | 0.163 | 0.688    |\n",
        "|     |                 |               | fear      | 0.597 | 0.091 | 0.559    |\n",
        "|     |                 |               | joy       | 0.728 | 0.251 | 0.601    |\n",
        "|     |                 |               | sadness   | 0.645 | 0.166 | 0.581    |\n",
        "|     |                 |               |**average**| 0.648 | 0.168 | 0.607    |\n",
        "| 1   | tus features    | tu clasifier  | anger     |       |       |          |\n",
        "|     |                 |               | fear      |       |       |          |\n",
        "|     |                 |               | joy       |       |       |          |\n",
        "|     |                 |               | sadness   |       |       |          |\n",
        "|     |                 |               |**average**|       |       |          |\n"
      ]
    },
    {
      "cell_type": "markdown",
      "metadata": {
        "id": "Sqlew0iizvI1"
      },
      "source": [
        "## **8. Conclusiones**"
      ]
    },
    {
      "cell_type": "markdown",
      "metadata": {
        "id": "zFTikGbszZuc"
      },
      "source": [
        "    Escriba aquí sus conclusiones"
      ]
    }
  ],
  "metadata": {
    "colab": {
      "collapsed_sections": [
        "mxlNrNf_p0ZY",
        "N6lhhfl2zvIk",
        "a6moqxkEwCe-",
        "LMSn_tDYwOb1",
        "E29LEMZ9zvIo",
        "OTAIEnSJzvIp",
        "kMOjYSQezvIq",
        "ECjkdgdwzvIq",
        "q5aNqEfVzvIv"
      ],
      "name": "Copia de Assignment_1.ipynb",
      "provenance": []
    },
    "kernelspec": {
      "display_name": "Python 3",
      "language": "python",
      "name": "python3"
    },
    "language_info": {
      "codemirror_mode": {
        "name": "ipython",
        "version": 3
      },
      "file_extension": ".py",
      "mimetype": "text/x-python",
      "name": "python",
      "nbconvert_exporter": "python",
      "pygments_lexer": "ipython3",
      "version": "3.8.10"
    },
    "toc": {
      "base_numbering": 1,
      "nav_menu": {},
      "number_sections": true,
      "sideBar": true,
      "skip_h1_title": true,
      "title_cell": "Table of Contents",
      "title_sidebar": "Contents",
      "toc_cell": true,
      "toc_position": {},
      "toc_section_display": true,
      "toc_window_display": false
    },
    "varInspector": {
      "cols": {
        "lenName": 16,
        "lenType": 16,
        "lenVar": 40
      },
      "kernels_config": {
        "python": {
          "delete_cmd_postfix": "",
          "delete_cmd_prefix": "del ",
          "library": "var_list.py",
          "varRefreshCmd": "print(var_dic_list())"
        },
        "r": {
          "delete_cmd_postfix": ") ",
          "delete_cmd_prefix": "rm(",
          "library": "var_list.r",
          "varRefreshCmd": "cat(var_dic_list()) "
        }
      },
      "types_to_exclude": [
        "module",
        "function",
        "builtin_function_or_method",
        "instance",
        "_Feature"
      ],
      "window_display": false
    }
  },
  "nbformat": 4,
  "nbformat_minor": 0
}
